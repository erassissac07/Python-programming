{
 "cells": [
  {
   "cell_type": "code",
   "execution_count": 12,
   "metadata": {},
   "outputs": [
    {
     "name": "stdout",
     "output_type": "stream",
     "text": [
      "Enter first value568\n",
      "Enter second value3\n",
      "Enter opertor/\n",
      "189.33333333333334 answer\n"
     ]
    }
   ],
   "source": [
    "#Make a calculator using Python with addition , subtraction ,multiplication , division and power.\n",
    "\n",
    "val1 = input('Enter first value')\n",
    "val2 = input('Enter second value')\n",
    "operator = input('Enter opertor')\n",
    "val1= int(val1)\n",
    "val2= int(val2) \n",
    "\n",
    "if operator == '+':\n",
    "   val= val1 + val2\n",
    "   print (val,'answer')\n",
    "elif operator == '-': \n",
    "   val = val1 - val2\n",
    "   print(val,'answer')\n",
    "elif operator == '*':\n",
    "   val = val1 * val2\n",
    "   print (val,'answer')\n",
    "elif operator == '/':\n",
    "   val = val1 / val2\n",
    "   print(val,'answer')\n",
    "elif operator == '**':\n",
    "    val= val1 ** val2\n",
    "    print(val,'answer')\n",
    "else:\n",
    "    print('Enter Correct Opertor')"
   ]
  },
  {
   "cell_type": "code",
   "execution_count": 4,
   "metadata": {},
   "outputs": [
    {
     "name": "stdout",
     "output_type": "stream",
     "text": [
      "Numeric value found : 6\n"
     ]
    }
   ],
   "source": [
    "#Write a program to check if there is any numeric value in list using for loop.\n",
    "\n",
    "the_list = [\"Emad\",\"25\", 6 ,\"karachi\"]\n",
    "for value in the_list:\n",
    "    if type(value) == int or type(value) == float:\n",
    "        print(f\"Numeric value found : {value}\")\n",
    "        break"
   ]
  },
  {
   "cell_type": "code",
   "execution_count": 5,
   "metadata": {},
   "outputs": [
    {
     "name": "stdout",
     "output_type": "stream",
     "text": [
      "{0: 10, 1: 20}\n",
      "{0: 10, 1: 20, 2: 30}\n"
     ]
    }
   ],
   "source": [
    "# Write a python script to add a key to a dictionary.\n",
    "\n",
    "d = {0:10, 1:20}\n",
    "print(d)\n",
    "d.update({2:30})\n",
    "print(d)"
   ]
  },
  {
   "cell_type": "code",
   "execution_count": 13,
   "metadata": {},
   "outputs": [
    {
     "name": "stdout",
     "output_type": "stream",
     "text": [
      "458\n"
     ]
    }
   ],
   "source": [
    "#Write a python program to add all the numeric value in dictionary.\n",
    "\n",
    "my_dict = {'val1':300,'val2':-89,'val3':247}\n",
    "print(sum(my_dict.values()))"
   ]
  },
  {
   "cell_type": "code",
   "execution_count": 9,
   "metadata": {},
   "outputs": [
    {
     "name": "stdout",
     "output_type": "stream",
     "text": [
      "Duplicated Farhan\n",
      "Duplicated Farhan\n",
      "Duplicated 1\n",
      "Duplicated 1\n",
      "Duplicated 0.4\n",
      "Duplicated 0.4\n",
      "Duplicated karachi\n",
      "Duplicated karachi\n"
     ]
    }
   ],
   "source": [
    "#Write a program to identify duplicate values from list.\n",
    "\n",
    "the_list = [\"Farhan\", \"Farhan\", 1, 1, 0.4, 0.4, 2, 3, 4, \"karachi\", \"karachi\"]\n",
    "for value in the_list:\n",
    "    if  the_list.count(value) > 1:\n",
    "        print(f\"Duplicated {value}\")"
   ]
  },
  {
   "cell_type": "code",
   "execution_count": 14,
   "metadata": {},
   "outputs": [
    {
     "name": "stdout",
     "output_type": "stream",
     "text": [
      "Key is present in the dictionary\n",
      "Key is not present in the dictionary\n"
     ]
    }
   ],
   "source": [
    "#Write a python script to check if a given key already exists in a dictionary.\n",
    "\n",
    "Num = {1: 100, 2: 202, 3: 303, 4: 445, 5: 568, 6: 623}\n",
    "def is_key_present(x):\n",
    "  if x in d:\n",
    "      print('Key is present in the dictionary')\n",
    "  else:\n",
    "      print('Key is not present in the dictionary')\n",
    "is_key_present(5)\n",
    "is_key_present(9)"
   ]
  }
 ],
 "metadata": {
  "kernelspec": {
   "display_name": "Python 3",
   "language": "python",
   "name": "python3"
  },
  "language_info": {
   "codemirror_mode": {
    "name": "ipython",
    "version": 3
   },
   "file_extension": ".py",
   "mimetype": "text/x-python",
   "name": "python",
   "nbconvert_exporter": "python",
   "pygments_lexer": "ipython3",
   "version": "3.7.4"
  }
 },
 "nbformat": 4,
 "nbformat_minor": 2
}
